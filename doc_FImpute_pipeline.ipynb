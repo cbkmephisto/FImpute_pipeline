{
 "cells": [
  {
   "cell_type": "markdown",
   "metadata": {},
   "source": [
    "# Imputation Pipeline using FImpute\n",
    "\n",
    "Hailin Su (hailins@iastate.edu), 225A Kildee, IASTATE, Ames, IA\n",
    "\n",
    "Created some times ago, recent updated [Mon Nov 14 16:22:43 CST 2016]"
   ]
  },
  {
   "cell_type": "markdown",
   "metadata": {},
   "source": [
    "## <font color=blue>Folder Structure Requirement</font>\n",
    "    0-pooled                                 stores the output AB-Genotype files from the SNPipeline\n",
    "    0-pooled/zzz-0-BOS1-2-100k.sh            used to convert AffyBOS1(600k) ABG file to Illumina 100k\n",
    "    1-maps                                   stores the map file\n",
    "    1-maps/zzz-0-map-maps.sh                 used to link neccessary map files according to pooled_ABG files\n",
    "\n",
    "    xxx-func3-split-by-chip-breed.sh\n",
    "    zzz-1-get_pooled_info_count_breed.sh\n",
    "    zzz-2-get_SNP_IDs.sh\n",
    "    zzz-3-split-by-chip-breed_MULTICORE.sh\n",
    "    zzz-4-get-sample-IDs.sh\n",
    "    zzz-5-excluding.sh\n",
    "    zzz-6-trimDownGenotypes.sh\n",
    "    zzz-7-abg2FImpute.sh\n",
    "    zzz-8-FImputeMac.sh\n",
    "    zzz-9-free-space-after-FImpute.sh\n",
    "    zzz-a-fout2abg.sh\n",
    "    zzz-b-fout2haplotype.sh\n",
    "    zzz-c-zip-imputed.sh\n",
    "    zzz-z-23456.sh"
   ]
  },
  {
   "cell_type": "markdown",
   "metadata": {},
   "source": [
    "## <font color=blue>Executable/Binary Requirement</font>\n",
    "- SNPipeline\n",
    "    - SNPipeline.trimDown2Map\n",
    "    - SNPipeline.mergingAB\n",
    "    - SNPipeline.abgExcl\n",
    "- libHailins\n",
    "    - ggrep\n",
    "    - mapUniter\n",
    "    - testInRefCounter\n",
    "    - abg2FImpute\n",
    "    - fout2abg\n",
    "    - fout2haplotype\n",
    "    - abg2bin\n",
    "    - binaryGenotypeFileIndexer\n",
    "- shell script\n",
    "    - waitMulti.sh\n",
    "- FImputeMac"
   ]
  },
  {
   "cell_type": "markdown",
   "metadata": {},
   "source": [
    "## <font color=blue>Preparations</font>"
   ]
  },
  {
   "cell_type": "markdown",
   "metadata": {},
   "source": [
    "### 0. make links to pooled_\\$CHIP to 0-pooled/"
   ]
  },
  {
   "cell_type": "markdown",
   "metadata": {},
   "source": [
    "<font color=green>Requires</font>\n",
    " - pooled AB-Genotype file from the SNPipeline"
   ]
  },
  {
   "cell_type": "markdown",
   "metadata": {},
   "source": [
    "<font color=purple>Example</font>\n",
    "<pre>$ ln -sf /Volumes/data/genotypes/pooled_ABG_20150114/pooled_* 0-pooled/\n",
    "$ ls 0-pooled\n",
    "pooled_50k pooled_9k pooled_GGPHD pooled_HD pooled_SuperLD zzz-0-BOS1-2-100k.sh</pre>"
   ]
  },
  {
   "cell_type": "markdown",
   "metadata": {},
   "source": [
    "<font color=orange>Result</font>\n",
    "- pooled AB genotype files exist in 0-pooled"
   ]
  },
  {
   "cell_type": "markdown",
   "metadata": {},
   "source": [
    "### 1. If pooled_BOS1 exists, cd into 0-pooled and run zzz-0-BOS1-2-100k.sh to convert it to pooled_100k"
   ]
  },
  {
   "cell_type": "markdown",
   "metadata": {},
   "source": [
    "<font color=green>Requires</font>\n",
    " - xref file of BOS1 to 100k [/Volumes/data/m-maps/affy_ilmnhd_markers.csv]\n",
    " - map file for 100k [/Volumes/data/m-maps/map.100k]\n",
    " - SNPipeline.trimDown2Map\n",
    " - SNPipeline.mergingAB"
   ]
  },
  {
   "cell_type": "markdown",
   "metadata": {},
   "source": [
    "<font color=purple>Example</font>\n",
    "<pre>\n",
    "$ cd 0-pooled\n",
    "$ ./zzz-0-BOS1-2-100k.sh\n",
    "making map.tdm.100k.affy\n",
    "trimming BOS1 to 100k.affy\n",
    "renaming SNP_IDs by SNPipeline.mergingAB                              \n",
    " + 10:34:16 | Parameters parsed. \n",
    " + 10:34:16 |   - [Output file Name ] :  pooled_100k \n",
    " + 10:34:16 |   - [SNPxref file Name] :  SNPxref.100k \n",
    " + 10:34:16 |   - [Input files list ] : \n",
    " + 10:34:16 |     - abg_pooled_100k.affy \n",
    " + 10:34:16 | Reading the SNPxref File \n",
    " + 10:34:16 | Reading input files to check SNP_IDs and duplicated sample IDs \n",
    " + 10:34:16 |   - reading abg_pooled_100k.affy \n",
    " + 10:34:17 | Start merging                                           \n",
    " + 10:34:17 |   - Writing out the headerLine (#SNP_IDs#) \n",
    " + 10:34:17 |   - Entering inputFileName loop \n",
    " + 10:34:17 |     - Processing abg_pooled_100k.affy \n",
    " + 10:34:17 | Done.\n",
    "$ cd ..\n",
    "</pre>"
   ]
  },
  {
   "cell_type": "markdown",
   "metadata": {},
   "source": [
    "<font color=orange>Result</font>\n",
    "- pooled_100k generated\n",
    "- pooled_BOS1 deleted"
   ]
  },
  {
   "cell_type": "markdown",
   "metadata": {},
   "source": [
    "### 2. Link map files according to pooled AB-Genotype files"
   ]
  },
  {
   "cell_type": "markdown",
   "metadata": {},
   "source": [
    "<font color=green>Requires</font>\n",
    " - 0-pooled/pooled-ABG-files\n",
    " - map files according to 0-pooled/ABG files [/Volumes/data/m-maps/map.\\*]"
   ]
  },
  {
   "cell_type": "markdown",
   "metadata": {},
   "source": [
    "<font color=purple>Example</font>\n",
    "<pre>\n",
    "$ cd 1-maps\n",
    "$ ./zzz-0-map-maps.sh \n",
    "linking map file for ../0-pooled/pooled_100k\n",
    "linking map file for ../0-pooled/pooled_50k\n",
    "linking map file for ../0-pooled/pooled_9k\n",
    "linking map file for ../0-pooled/pooled_GGPHD\n",
    "linking map file for ../0-pooled/pooled_HD\n",
    "linking map file for ../0-pooled/pooled_SuperLD\n",
    "$ cd ..</pre>"
   ]
  },
  {
   "cell_type": "markdown",
   "metadata": {},
   "source": [
    "<font color=orange>Result</font>\n",
    "- map files exist in 1-maps"
   ]
  },
  {
   "cell_type": "markdown",
   "metadata": {},
   "source": [
    "## <font color=blue>Going through the Pipeline</font>"
   ]
  },
  {
   "cell_type": "markdown",
   "metadata": {},
   "source": [
    "### [OPTIONAL] zzz-1-get_pooled_info_count_breed.sh\n",
    "\tgenerates rrr-1-breed-population"
   ]
  },
  {
   "cell_type": "markdown",
   "metadata": {},
   "source": [
    "<font color=purple>Example</font>\n",
    "<pre># ======= 0-pooled/pooled_100k =======\n",
    " 415 GVH\n",
    " 476 HER\n",
    " 461 LIM\n",
    "1602 SIM\n",
    "# ======= 0-pooled/pooled_SuperLD =======\n",
    "1253 AAN\n",
    " 888 GVH\n",
    "2959 HER\n",
    " 730 LIM\n",
    "3082 RAN\n",
    "8635 SIM</pre>"
   ]
  },
  {
   "cell_type": "markdown",
   "metadata": {},
   "source": [
    "### zzz-2-get_SNP_IDs.sh"
   ]
  },
  {
   "cell_type": "markdown",
   "metadata": {},
   "source": [
    "<font color=green>Requires</font>\n",
    " - ggrep\n",
    " - waitMulti.sh\n",
    " - mapUniter"
   ]
  },
  {
   "cell_type": "markdown",
   "metadata": {},
   "source": [
    "<font color=orange>Result</font>\n",
    "- rrr-2-SNP_IDs-$CHIP generated: all SNP_IDs from pooled file, used for trim-down\n",
    "- 1-maps/snp_info.txt generated: FImpute map input file, also used to trim-down ABG files\n",
    "- valid new map files extracted from snp_info.txt (si.map.*) generated"
   ]
  },
  {
   "cell_type": "markdown",
   "metadata": {},
   "source": [
    "### zzz-3-split-by-chip-breed_MULTICORE.sh"
   ]
  },
  {
   "cell_type": "markdown",
   "metadata": {},
   "source": [
    "<font color=green>Requires</font>\n",
    " - xxx-func3-split-by-chip-breed.sh\n",
    " - waitMulti.sh\n",
    " "
   ]
  },
  {
   "cell_type": "markdown",
   "metadata": {},
   "source": [
    "<font color=red>TODO</font>\n",
    " - modify the shell script code to specify the breeds needed to be imputed, defaults are\n",
    " >BRG AAN HER LIM SIM RAN GVH CHA BSH RDP NEL\n",
    " - modify the shell script code to specify the number of jobs for waitMulti.sh parallel computing, default is\n",
    " >4"
   ]
  },
  {
   "cell_type": "markdown",
   "metadata": {},
   "source": [
    "<font color=orange>Result</font>\n",
    "- directories job.$breed generated"
   ]
  },
  {
   "cell_type": "markdown",
   "metadata": {},
   "source": [
    "### zzz-4-get-sample-IDs.sh"
   ]
  },
  {
   "cell_type": "markdown",
   "metadata": {},
   "source": [
    "<font color=green>Requires</font>\n",
    " - testInRefCounter\n",
    " - waitMulti.sh\n",
    " "
   ]
  },
  {
   "cell_type": "markdown",
   "metadata": {},
   "source": [
    "<font color=red>TODO</font>\n",
    " - modify the shell script code to specify the number of jobs for waitMulti.sh parallel computing, default is\n",
    " >6"
   ]
  },
  {
   "cell_type": "markdown",
   "metadata": {},
   "source": [
    "<font color=orange>Result</font>\n",
    "- job.\\$breed/IDs.$chip.IDs generated, used for excluding duplicated animal IDs from lower density ABG file(s)"
   ]
  },
  {
   "cell_type": "markdown",
   "metadata": {},
   "source": [
    "### zzz-5-excluding.sh\n",
    "\texcludes animalIDs in the lower density panels that are in common with higher density ones"
   ]
  },
  {
   "cell_type": "markdown",
   "metadata": {},
   "source": [
    "<font color=green>Requires</font>\n",
    " - testInRefCounter\n",
    " - waitMulti.sh\n",
    " - SNPipeline.abgExcl"
   ]
  },
  {
   "cell_type": "markdown",
   "metadata": {},
   "source": [
    "<font color=red>TODO</font>\n",
    " - modify the shell script code to specify the chip array, ordered from higher density to lower ones, default is\n",
    " >vecChips=(HD 100k GGPHD 50k SuperLD 9k)\n",
    " - modify the excluding strategy, so that not all the lower density SNPs were dropped"
   ]
  },
  {
   "cell_type": "markdown",
   "metadata": {},
   "source": [
    "<font color=orange>Result</font>\n",
    "- job.\\$breed/pooled\\_\\${lower}_\\$breed.nodup generated, used for trimming down SNPs according to snp_info.txt map file"
   ]
  },
  {
   "cell_type": "markdown",
   "metadata": {},
   "source": [
    "### zzz-6-trimDownGenotypes.sh\n",
    "\ttrims genotype files according to si.map.* to make them in consistent with snp_info.txt"
   ]
  },
  {
   "cell_type": "markdown",
   "metadata": {},
   "source": [
    "<font color=green>Requires</font>\n",
    " - SNPipeline.trimDown2Map\n",
    " - waitMulti.sh"
   ]
  },
  {
   "cell_type": "markdown",
   "metadata": {},
   "source": [
    "<font color=red>TODO</font>\n",
    " - modify the shell script code to specify the chip array, ordered from higher density to lower ones, default is\n",
    " >vecChips=(HD 100k GGPHD 50k SuperLD 9k)\n",
    " - modify the excluding strategy, so that not all the lower density SNPs were dropped"
   ]
  },
  {
   "cell_type": "markdown",
   "metadata": {},
   "source": [
    "<font color=orange>Result</font>\n",
    "- job.\\$breed/tdmout.\\* generated, used for merging into FImpute genotype file"
   ]
  },
  {
   "cell_type": "markdown",
   "metadata": {},
   "source": [
    "### zzz-7-abg2FImpute.sh\n",
    "\tgenerate genotypes.txt for FImpute from snp_info.txt and trimDownOutput genotype files"
   ]
  },
  {
   "cell_type": "markdown",
   "metadata": {},
   "source": [
    "<font color=green>Requires</font>\n",
    " - abg2FImpute\n",
    " - waitMulti.sh"
   ]
  },
  {
   "cell_type": "markdown",
   "metadata": {},
   "source": [
    "<font color=red>TODO</font>\n",
    " - modify the shell script code to specify the number of jobs for waitMulti.sh parallel computing, default is\n",
    " >4"
   ]
  },
  {
   "cell_type": "markdown",
   "metadata": {},
   "source": [
    "<font color=orange>Result</font>\n",
    "- job.\\$breed/genotypes.txt generated, FImpute input: genotype file\n",
    "- job.\\$breed/dummy.ctr generated, FImpute input: config file"
   ]
  },
  {
   "cell_type": "markdown",
   "metadata": {},
   "source": [
    "### zzz-8-FImputeMac.sh\n",
    "\tdo the imputation"
   ]
  },
  {
   "cell_type": "markdown",
   "metadata": {},
   "source": [
    "<font color=green>Requires</font>\n",
    " - FImputeMac"
   ]
  },
  {
   "cell_type": "markdown",
   "metadata": {},
   "source": [
    "<font color=red>TODO</font>\n",
    " - modify job.$breed/dummy.ctr config file to specify number of cores used in imputing, default is\n",
    " >8\n",
    " - modify the shell script code to specify the breeds needed to be imputed, defaults are\n",
    " >for dir in job.HER job.SIM job.AAN job.RDP job.RAN job.GVH job.LIM job.CHA job.BRG job.BSH job.NEL\n"
   ]
  },
  {
   "cell_type": "markdown",
   "metadata": {},
   "source": [
    "<font color=orange>Result</font>\n",
    "- job.\\$breed/optDummy/snp_info.txt generated, same as FImpute input: map file\n",
    "- job.\\$breed/optDummy/genotypes_imp.txt generated, FImpute output: imputed genotype file"
   ]
  },
  {
   "cell_type": "markdown",
   "metadata": {},
   "source": [
    "### zzz-9-free-space-after-FImpute.sh\n",
    "\tclean out the working space, deleting useless files"
   ]
  },
  {
   "cell_type": "markdown",
   "metadata": {},
   "source": [
    "### zzz-a-fout2abg.sh\n",
    "\tconvert imputed FImpute output genotype file to AB-Genotype file format, and make newbin binary genotype file"
   ]
  },
  {
   "cell_type": "markdown",
   "metadata": {},
   "source": [
    "<font color=green>Requires</font>\n",
    " - fout2abg\n",
    " - waitMulti.sh\n",
    " - binaryGenotypeFileIndexer"
   ]
  },
  {
   "cell_type": "markdown",
   "metadata": {},
   "source": [
    "<font color=orange>Result</font>\n",
    "- ./ab-genotype-\\${chip}-\\$breed generated, ab-genotype file\n",
    "- ./ab-genotype-\\${chip}-\\$breed.newbin generated, binary genotype file\n",
    "- ./ab-genotype-\\${chip}-\\$breed.newbin.ndx generated, index file for binary genotype file, all animalIDs in 1st column"
   ]
  }
 ],
 "metadata": {
  "kernelspec": {
   "display_name": "Python 3",
   "language": "python",
   "name": "python3"
  },
  "language_info": {
   "codemirror_mode": {
    "name": "ipython",
    "version": 3
   },
   "file_extension": ".py",
   "mimetype": "text/x-python",
   "name": "python",
   "nbconvert_exporter": "python",
   "pygments_lexer": "ipython3",
   "version": "3.5.2"
  }
 },
 "nbformat": 4,
 "nbformat_minor": 0
}
